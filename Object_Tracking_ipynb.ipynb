{
  "nbformat": 4,
  "nbformat_minor": 0,
  "metadata": {
    "colab": {
      "provenance": []
    },
    "kernelspec": {
      "name": "python3",
      "display_name": "Python 3"
    },
    "language_info": {
      "name": "python"
    }
  },
  "cells": [
    {
      "cell_type": "markdown",
      "source": [
        "# Object Tracking using OpenCV"
      ],
      "metadata": {
        "id": "nrWftC20b7RB"
      }
    },
    {
      "cell_type": "markdown",
      "source": [
        "### 1. Importing Libraries"
      ],
      "metadata": {
        "id": "76enWwI4b9TQ"
      }
    },
    {
      "cell_type": "code",
      "execution_count": null,
      "metadata": {
        "id": "K2XNradFLhJJ"
      },
      "outputs": [],
      "source": [
        "import cv2\n",
        "import imutils\n",
        "from google.colab.patches import cv2_imshow\n"
      ]
    },
    {
      "cell_type": "markdown",
      "source": [
        "### 2. Defining the Tracker Dictionary"
      ],
      "metadata": {
        "id": "ueWytCb9b_wP"
      }
    },
    {
      "cell_type": "code",
      "source": [
        "\n",
        "TrDict = {\n",
        "    \"csrt\": cv2.TrackerCSRT_create ,\n",
        "    \"kcf\": cv2.TrackerKCF_create,\n",
        "    \"boosting\": cv2.TrackerBoosting_create,\n",
        "    \"mil\": cv2.TrackerMIL_create,\n",
        "    \"tld\": cv2.TrackerTLD_create,\n",
        "    \"medianflow\": cv2.TrackerMedianFlow_create,\n",
        "    \"mosse\": cv2.TrackerMOSSE_create\n",
        "\n",
        "    }"
      ],
      "metadata": {
        "id": "5ubZEm4AMDd8"
      },
      "execution_count": null,
      "outputs": []
    },
    {
      "cell_type": "markdown",
      "source": [
        "### 3. Initializing the Tracker"
      ],
      "metadata": {
        "id": "lSrKPOhRcCI3"
      }
    },
    {
      "cell_type": "code",
      "source": [
        "tracker = TrDict[\"csrt\"]()"
      ],
      "metadata": {
        "id": "3OkhbHJeMKCR"
      },
      "execution_count": null,
      "outputs": []
    },
    {
      "cell_type": "markdown",
      "source": [
        "### 4. Loading the Video"
      ],
      "metadata": {
        "id": "txu-suN-cEju"
      }
    },
    {
      "cell_type": "code",
      "source": [
        "# Initialize the video capture\n",
        "\n",
        "v = cv2.VideoCapture(\"/content/messi_.mp4\")"
      ],
      "metadata": {
        "id": "2E4jwwjLMTJ4"
      },
      "execution_count": null,
      "outputs": []
    },
    {
      "cell_type": "markdown",
      "source": [
        "### 5. Selecting the Region of Interest (ROI)"
      ],
      "metadata": {
        "id": "ZZxdQTz7cRdx"
      }
    },
    {
      "cell_type": "code",
      "source": [
        "# Read the first frame\n",
        "ret, frame = v.read()\n",
        "if not ret:\n",
        "    print(\"Error: Could not read the first frame.\")\n",
        "    exit()\n",
        "\n",
        "# Resize the frame\n",
        "frame = imutils.resize(frame, width=600)\n",
        "cv2.imshow(\"Frame\", frame)\n",
        "\n",
        "# Select ROI and initialize the tracker\n",
        "bb = cv2.selectROI(\"Frame\", frame, fromCenter=False, showCrosshair=True)\n",
        "tracker.init(frame, bb)\n",
        "\n",
        "cv2.destroyAllWindows()"
      ],
      "metadata": {
        "id": "DSEm9Q77Qh9w"
      },
      "execution_count": null,
      "outputs": []
    },
    {
      "cell_type": "markdown",
      "source": [
        "### 6. Tracking the Object in Video"
      ],
      "metadata": {
        "id": "Pxo9pGdRdqDE"
      }
    },
    {
      "cell_type": "code",
      "source": [
        "while True:\n",
        "    # Read a new frame\n",
        "    ret, frame = v.read()\n",
        "    if not ret:\n",
        "        break\n",
        "\n",
        "    # Resize the frame\n",
        "    frame = imutils.resize(frame, width=600)\n",
        "\n",
        "    # Update the tracker and get the position of the object\n",
        "    success, box = tracker.update(frame)\n",
        "    if success:\n",
        "        x, y, w, h = [int(a) for a in box]\n",
        "        cv2.rectangle(frame, (x, y), (x + w, y + h), (100, 255, 0), 2)\n",
        "\n",
        "    # Display the frame\n",
        "    cv2.imshow(\"Frame\", frame)\n",
        "\n",
        "    # Exit if 'q' is pressed\n",
        "    if cv2.waitKey(30) & 0xFF == ord(\"q\"):\n",
        "        break\n",
        "\n",
        "# Release the video capture object and close all OpenCV windows\n",
        "v.release()\n",
        "cv2.destroyAllWindows()"
      ],
      "metadata": {
        "id": "zGVl-DGyQxyu"
      },
      "execution_count": null,
      "outputs": []
    },
    {
      "cell_type": "code",
      "source": [],
      "metadata": {
        "id": "P92Ym9tQWtQb"
      },
      "execution_count": null,
      "outputs": []
    }
  ]
}